{
 "cells": [
  {
   "cell_type": "markdown",
   "metadata": {},
   "source": [
    "# Graph Input"
   ]
  },
  {
   "cell_type": "markdown",
   "metadata": {},
   "source": [
    "This is originally my graph input but for the sake of report and to keep my graph input non random i chose a static graph input"
   ]
  },
  {
   "cell_type": "code",
   "execution_count": 1,
   "metadata": {},
   "outputs": [
    {
     "name": "stdout",
     "output_type": "stream",
     "text": [
      "defaultdict(None, {0: [5, 2, 8, 6, 4, 1], 1: [3, 9, 4, 7, 8, 0], 2: [6, 0, 3, 8, 7, 9], 3: [8, 1, 7, 6, 9, 2], 4: [8, 9, 1, 7, 0], 5: [6, 0, 7, 9], 6: [2, 5, 3, 8, 0, 7], 7: [3, 9, 1, 2, 5, 4, 6], 8: [3, 0, 4, 1, 6, 2, 9], 9: [1, 4, 7, 3, 2, 5, 8]}) set([3, 4, 7]) set([0, 1, 2, 3, 4, 5, 6, 7, 8, 9]) set([])\n"
     ]
    }
   ],
   "source": [
    "import random\n",
    "import itertools\n",
    "from collections import defaultdict\n",
    "\n",
    "#all the above graph assignments can be as : int(input(\"s.th: \"))\n",
    "\n",
    "v = 10 #vertices \n",
    "I = 3 #infected nodes\n",
    "e = 30 #edges\n",
    "B = 16 #budget\n",
    "maxD = 0 #max degree (0 for no limit)\n",
    "\n",
    "nodes = set()\n",
    "graph = defaultdict()\n",
    "\n",
    "myFile = open('input.txt', 'w')\n",
    "for i in range(0,v): #vertices\n",
    "    nodes.add(i) \n",
    "    graph[i] = []\n",
    "\n",
    "edges = random.sample(\n",
    "    list(itertools.combinations(nodes, 2)),\n",
    "    len(list(itertools.combinations(nodes,2)))\n",
    "    )\n",
    "random.shuffle(edges)\n",
    "\n",
    "for edge in edges: # edges\n",
    "    if e > 0:\n",
    "        if (maxD != 0) and (len(graph) > 0):\n",
    "            if len(graph[edge[0]]) >= maxD:\n",
    "                continue\n",
    "            if len(graph[edge[1]]) >= maxD:\n",
    "                continue\n",
    "        graph[edge[0]].append(edge[1])\n",
    "        graph[edge[1]].append(edge[0])\n",
    "\n",
    "        myFile.write(str(edge[0]) + ' ' + str(edge[1]) + '\\n')\n",
    "        e = e - 1\n",
    "    else:\n",
    "        break\n",
    "\n",
    "myFile.close()\n",
    "\n",
    "if I<v: # check infected\n",
    "    u = random.sample(nodes, I)\n",
    "    infected = {n for n in u}\n",
    "else:\n",
    "    print ('infected nodes number are not correct')\n",
    "\n",
    "removed = set() # removed set\n"
   ]
  },
  {
   "cell_type": "markdown",
   "metadata": {},
   "source": [
    "right now my graph input.txt includes the above edges:"
   ]
  },
  {
   "cell_type": "markdown",
   "metadata": {},
   "source": [
    "1 3\n",
    "\n",
    "0 3\n",
    "\n",
    "3 4\n",
    "\n",
    "3 5\n",
    "\n",
    "2 5\n",
    "\n",
    "0 4\n",
    "\n",
    "4 5\n",
    "\n",
    "1 5\n",
    "\n",
    "2 4\n",
    "\n",
    "0 1"
   ]
  }
 ],
 "metadata": {
  "kernelspec": {
   "display_name": "Python 2",
   "language": "python",
   "name": "python2"
  },
  "language_info": {
   "codemirror_mode": {
    "name": "ipython",
    "version": 2
   },
   "file_extension": ".py",
   "mimetype": "text/x-python",
   "name": "python",
   "nbconvert_exporter": "python",
   "pygments_lexer": "ipython2",
   "version": "2.7.12"
  }
 },
 "nbformat": 4,
 "nbformat_minor": 2
}
